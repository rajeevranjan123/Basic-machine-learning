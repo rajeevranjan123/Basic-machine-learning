{
 "cells": [
  {
   "cell_type": "markdown",
   "metadata": {},
   "source": [
    "# Linear regression with one variable"
   ]
  },
  {
   "cell_type": "code",
   "execution_count": 15,
   "metadata": {
    "collapsed": true
   },
   "outputs": [],
   "source": [
    "import numpy as np\n",
    "import pandas as pd\n",
    "import random, os\n",
    "import matplotlib.pyplot as plt"
   ]
  },
  {
   "cell_type": "markdown",
   "metadata": {},
   "source": [
    "#### load the datasts"
   ]
  },
  {
   "cell_type": "code",
   "execution_count": 106,
   "metadata": {},
   "outputs": [],
   "source": [
    "#datapath = r'C:\\Users\\rajeev\\Desktop\\Machine_Learning_AZ_Template_Folder\\basic_ML\\data/'\n",
    "datapath = %pwd\n",
    "data = np.loadtxt(datapath+'house_price.txt', dtype=np.int32, delimiter=',')"
   ]
  },
  {
   "cell_type": "code",
   "execution_count": 43,
   "metadata": {},
   "outputs": [
    {
     "data": {
      "text/plain": [
       "array([[  2104,      3, 399900],\n",
       "       [  1600,      3, 329900],\n",
       "       [  2400,      3, 369000],\n",
       "       [  1416,      2, 232000],\n",
       "       [  3000,      4, 539900]])"
      ]
     },
     "execution_count": 43,
     "metadata": {},
     "output_type": "execute_result"
    }
   ],
   "source": [
    "data[:5]"
   ]
  },
  {
   "cell_type": "code",
   "execution_count": 44,
   "metadata": {},
   "outputs": [
    {
     "data": {
      "text/plain": [
       "(47, 47)"
      ]
     },
     "execution_count": 44,
     "metadata": {},
     "output_type": "execute_result"
    }
   ],
   "source": [
    "# break the data into x & y\n",
    "X = data[::,0:2] \n",
    "Y = data[::,2:3]\n",
    "len(X), len(Y)"
   ]
  },
  {
   "cell_type": "code",
   "execution_count": 45,
   "metadata": {},
   "outputs": [
    {
     "data": {
      "image/png": "[encoded data removed]",
      "text/plain": [
       "<matplotlib.figure.Figure at 0x1f7e38e5c88>"
      ]
     },
     "metadata": {},
     "output_type": "display_data"
    }
   ],
   "source": [
    "# plotting example datasets\n",
    "plt.figure(figsize=(15,4), dpi=100)\n",
    "plt.subplot(121)\n",
    "plt.scatter(X[::,0:1],Y)\n",
    "plt.xlabel(\"size of house(X1)\")\n",
    "plt.ylabel(\"price(Y) \")\n",
    "\n",
    "plt.subplot(122)\n",
    "plt.scatter(X[::,1:2],Y)\n",
    "plt.xlabel(\"bedroom (X2)\")\n",
    "plt.ylabel(\"price(in 1000 dollers)(y) \")\n",
    "\n",
    "plt.show()"
   ]
  },
  {
   "cell_type": "code",
   "execution_count": 92,
   "metadata": {},
   "outputs": [
    {
     "name": "stdout",
     "output_type": "stream",
     "text": [
      "X_bias = \n",
      " [[  1.00000000e+00   2.10400000e+03   3.00000000e+00]\n",
      " [  1.00000000e+00   1.60000000e+03   3.00000000e+00]\n",
      " [  1.00000000e+00   2.40000000e+03   3.00000000e+00]\n",
      " [  1.00000000e+00   1.41600000e+03   2.00000000e+00]\n",
      " [  1.00000000e+00   3.00000000e+03   4.00000000e+00]]\n",
      "Y = \n",
      " [[399900]\n",
      " [329900]\n",
      " [369000]\n",
      " [232000]\n",
      " [539900]]\n"
     ]
    }
   ],
   "source": [
    "# intoduce weight of hypothesis\n",
    "Theta = np.random.rand(1,3)\n",
    "# m is total example set, n is number of features\n",
    "m,n = X.shape\n",
    "\n",
    "# add bias to input matrix by sample make x0 = 1 for all\n",
    "X_bias = np.ones((m, n+1))\n",
    "X_bias[::,1:] = X\n",
    "\n",
    "print(\"X_bias = \\n\", X_bias[0:5,:])\n",
    "print(\"Y = \\n\", Y[0:5,::])"
   ]
  },
  {
   "cell_type": "code",
   "execution_count": 93,
   "metadata": {},
   "outputs": [
    {
     "data": {
      "text/plain": [
       "array([[ 1.        ,  0.13141542, -0.22609337],\n",
       "       [ 1.        , -0.5096407 , -0.22609337],\n",
       "       [ 1.        ,  0.5079087 , -0.22609337],\n",
       "       [ 1.        , -0.74367706, -1.5543919 ],\n",
       "       [ 1.        ,  1.27107075,  1.10220517]])"
      ]
     },
     "execution_count": 93,
     "metadata": {},
     "output_type": "execute_result"
    }
   ],
   "source": [
    "#feature scaling\n",
    "mean_size = np.mean(X_bias[::,1:2])\n",
    "mean_bedroom = np.mean(X_bias[::,2:])\n",
    "size_std = np.std(X_bias[::, 1:2])\n",
    "bedroom_std = np.std(X_bias[::,2:])\n",
    "X_bias[::,1:2] = (X_bias[::, 1:2] - mean_size) / (size_std)\n",
    "X_bias[::,2:] = (X_bias[::,2:] - mean_bedroom) / (bedroom_std)\n",
    "X_bias[0:5,::]"
   ]
  },
  {
   "cell_type": "code",
   "execution_count": 94,
   "metadata": {},
   "outputs": [],
   "source": [
    "#define function to find the cost\n",
    "def cost(X_bias, Y, Theta):\n",
    "    np.seterr(over='raise')\n",
    "    m, n = X.shape\n",
    "    hypothesis = X_bias.dot(Theta.transpose())\n",
    "    return (1/(2.0*m))*((np.square(hypothesis - Y)).sum(axis = 0))"
   ]
  },
  {
   "cell_type": "code",
   "execution_count": 95,
   "metadata": {},
   "outputs": [],
   "source": [
    "#define gradient descent algorithm from minimizing theta\n",
    "def gradient_Descent(X_bias, Y, Theta, iterations, alpha):\n",
    "    count = 1\n",
    "    cost_log = np.array([])\n",
    "    while(count <= iterations):\n",
    "        hypothesis = X_bias.dot(Theta.transpose())\n",
    "        temp0 = Theta[0,0] - alpha*(1.0/m)*((hypothesis - Y)*(X_bias[::,0:1])).sum(axis=0)\n",
    "        temp1 = Theta[0,1] - alpha*(1.0/m)*((hypothesis - Y)*(X_bias[::,1:2])).sum(axis=0)\n",
    "        temp2 = Theta[0,2] - alpha*(1.0/m)*((hypothesis - Y)*(X_bias[::,-1:])).sum(axis=0)\n",
    "        Theta[0,0] = temp0\n",
    "        Theta[0,1] = temp1\n",
    "        Theta[0,2] = temp2\n",
    "        cost_log = np.append(cost_log, cost(X_bias,Y, Theta))\n",
    "        count = count+1\n",
    "    plt.plot(np.linspace(1, iterations, iterations, endpoint=True), cost_log)\n",
    "    plt.title(\"Iteration vs Cost graph\")\n",
    "    plt.xlabel(\"Number of iteration\")\n",
    "    plt.ylabel(\"Cost of theta\")\n",
    "    plt.show()\n",
    "    \n",
    "    return Theta"
   ]
  },
  {
   "cell_type": "code",
   "execution_count": 96,
   "metadata": {},
   "outputs": [
    {
     "data": {
      "image/png": "[encoded data removed]",
      "text/plain": [
       "<matplotlib.figure.Figure at 0x1f7e49f8a20>"
      ]
     },
     "metadata": {},
     "output_type": "display_data"
    },
    {
     "name": "stdout",
     "output_type": "stream",
     "text": [
      "Theta: [[ 340412.65957447  109447.75525946   -6578.31364398]]\n"
     ]
    }
   ],
   "source": [
    "alpha = 0.3\n",
    "iterations = 100\n",
    "Theta = gradient_Descent(X_bias, Y, Theta, iterations, alpha)\n",
    "print(\"Theta:\",Theta)"
   ]
  },
  {
   "cell_type": "code",
   "execution_count": 102,
   "metadata": {},
   "outputs": [
    {
     "name": "stdout",
     "output_type": "stream",
     "text": [
      "Cost of house with 1650 sq ft and 3 bedroom is  [ 293081.4733991]\n"
     ]
    }
   ],
   "source": [
    "# predict the price of a house with 1650 square feet and 3 bedrooms\n",
    "# add bias unit 1.0\n",
    "X_predict = np.array([1.0,1650.0,3])\n",
    "#feature scaling the data first\n",
    "X_predict[1] = (X_predict[1] - mean_size)/ (size_std) \n",
    "X_predict[2] = (X_predict[2]- mean_bedroom)/ (bedroom_std)\n",
    "hypothesis = X_predict.dot(Theta.transpose())\n",
    "print(\"Cost of house with 1650 sq ft and 3 bedroom is \",hypothesis)"
   ]
  },
  {
   "cell_type": "code",
   "execution_count": null,
   "metadata": {},
   "outputs": [],
   "source": []
  }
 ],
 "metadata": {
  "kernelspec": {
   "display_name": "Python 3",
   "language": "python",
   "name": "python3"
  },
  "language_info": {
   "codemirror_mode": {
    "name": "ipython",
    "version": 3
   },
   "file_extension": ".py",
   "mimetype": "text/x-python",
   "name": "python",
   "nbconvert_exporter": "python",
   "pygments_lexer": "ipython3",
   "version": "3.6.3"
  }
 },
 "nbformat": 4,
 "nbformat_minor": 2
}
